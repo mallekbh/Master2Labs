{
 "cells": [
  {
   "cell_type": "code",
   "execution_count": 1,
   "metadata": {},
   "outputs": [],
   "source": [
    "import nltk,re,os\n",
    "from nltk.tokenize import RegexpTokenizer\n",
    "from nltk.corpus import gutenberg as guten\n",
    "from nltk.stem.porter import *\n",
    "from nltk.stem.lancaster import *"
   ]
  },
  {
   "cell_type": "code",
   "execution_count": null,
   "metadata": {},
   "outputs": [],
   "source": []
  },
  {
   "cell_type": "code",
   "execution_count": null,
   "metadata": {},
   "outputs": [],
   "source": []
  },
  {
   "cell_type": "code",
   "execution_count": 2,
   "metadata": {},
   "outputs": [],
   "source": [
    "pat = r'''\n",
    "      (?x) #verbose flag\n",
    "      [,;:.]\\s #ponctuation\n",
    "      '''"
   ]
  },
  {
   "cell_type": "code",
   "execution_count": 3,
   "metadata": {},
   "outputs": [],
   "source": [
    "def load(file):\n",
    "\twith open(file) as f:\n",
    "\t\treturn f.read()"
   ]
  },
  {
   "cell_type": "code",
   "execution_count": 4,
   "metadata": {},
   "outputs": [],
   "source": [
    "text = load(\"corpus.txt\")"
   ]
  },
  {
   "cell_type": "code",
   "execution_count": 5,
   "metadata": {},
   "outputs": [
    {
     "data": {
      "text/plain": [
       "[', ',\n",
       " ', ',\n",
       " '. ',\n",
       " ', ',\n",
       " ', ',\n",
       " '. ',\n",
       " ', ',\n",
       " '. ',\n",
       " '.\\n',\n",
       " ', ',\n",
       " '. ',\n",
       " ', ',\n",
       " ', ',\n",
       " '. ',\n",
       " ', ']"
      ]
     },
     "execution_count": 5,
     "metadata": {},
     "output_type": "execute_result"
    }
   ],
   "source": [
    "nltk.regexp_tokenize(text,pat)"
   ]
  },
  {
   "cell_type": "code",
   "execution_count": 6,
   "metadata": {},
   "outputs": [],
   "source": [
    "days = \"([0-2][1-9])|30|31\"\n",
    "months = \"(0[1-9])|10|11|12\"\n",
    "years = \"[1-9][0-9][0-9][0-9]\""
   ]
  },
  {
   "cell_type": "code",
   "execution_count": 7,
   "metadata": {},
   "outputs": [],
   "source": [
    "pat1 = r\"((\"+days+\")[/](\"+months+\")[/](\"+years+\"))\"\n",
    "pat2 =r\"((\"+days+\")-(\"+months+\")-(\"+years+\"))\""
   ]
  },
  {
   "cell_type": "code",
   "execution_count": 27,
   "metadata": {},
   "outputs": [],
   "source": [
    "pat =   r'''(?x) \t\t\t#verbose flag\n",
    "\t\t\t[1-9](\\d{,2})([.]\\d{3})*?(\\d{,3})?([$£]|da) \t#pat for currentcies \n",
    "\t\t\t|'''+pat1+'''|'''+pat2+'''\t\t\t \t\t    #pat for dates\n",
    "\t\t\t|\t\t \t\t\t\t\t\t\t\t\t\t#pat for person names\n",
    "\t\t\t|\t\t \t\t\t\t\t\t\t\t\t\t#pat for firm names\n",
    "\t\t'''"
   ]
  },
  {
   "cell_type": "code",
   "execution_count": 29,
   "metadata": {},
   "outputs": [
    {
     "name": "stdout",
     "output_type": "stream",
     "text": [
      "{12-05-2018} {1.000.500$} {1.200$} {20da}\n"
     ]
    }
   ],
   "source": [
    "sentence = \"12-05-2018 1.000.500$ 1.200$ 20da\"\n",
    "nltk.re_show(pat,sentence)"
   ]
  },
  {
   "cell_type": "code",
   "execution_count": 10,
   "metadata": {},
   "outputs": [
    {
     "data": {
      "text/plain": [
       "[('the', 3),\n",
       " ('dog', 3),\n",
       " ('gave', 4),\n",
       " ('john', 4),\n",
       " ('the', 3),\n",
       " ('newspaper', 9)]"
      ]
     },
     "execution_count": 10,
     "metadata": {},
     "output_type": "execute_result"
    }
   ],
   "source": [
    "result = [(word,len(word)) for word in [\"the\",\"dog\",\"gave\",\"john\",\"the\",\"newspaper\"]]\n",
    "result"
   ]
  },
  {
   "cell_type": "code",
   "execution_count": 11,
   "metadata": {},
   "outputs": [],
   "source": [
    "words = [\"attribution\", \"confabulation\", \"elocution\", \"sequoia\", \"tenacious\", 'unidirectional']"
   ]
  },
  {
   "cell_type": "code",
   "execution_count": 12,
   "metadata": {},
   "outputs": [],
   "source": [
    "porter = PorterStemmer()\n",
    "lancaster = LancasterStemmer()"
   ]
  },
  {
   "cell_type": "code",
   "execution_count": 34,
   "metadata": {},
   "outputs": [
    {
     "name": "stdout",
     "output_type": "stream",
     "text": [
      "['attribut', 'confabul', 'elocut', 'sequoia', 'tenaci', 'unidirect']\n",
      "['attribut', 'confab', 'elocut', 'sequo', 'ten', 'unidirect']\n"
     ]
    }
   ],
   "source": [
    "Pstemmed = [porter.stem(word) for word in words]\n",
    "Lstemmed = [lancaster.stem(word) for word in words]\n",
    "print(Pstemmed)\n",
    "print(Lstemmed)"
   ]
  },
  {
   "cell_type": "code",
   "execution_count": 14,
   "metadata": {},
   "outputs": [],
   "source": [
    "from nltk.corpus import brown as brown"
   ]
  },
  {
   "cell_type": "code",
   "execution_count": 15,
   "metadata": {},
   "outputs": [],
   "source": [
    "dict = {}\n",
    "for cat in brown.categories():\n",
    "\tUw = len(\"\".join(list(brown.words(categories=cat))))/len(brown.words(categories=cat))\n",
    "\tUs = len(brown.words(categories=cat))/len(brown.sents(categories=cat))\n",
    "\tdict[cat] = 4.71*Uw + 0.5*Us - 21.43"
   ]
  },
  {
   "cell_type": "code",
   "execution_count": 16,
   "metadata": {},
   "outputs": [
    {
     "data": {
      "text/plain": [
       "{'adventure': 4.0841684990890705,\n",
       " 'belles_lettres': 10.987652885621749,\n",
       " 'editorial': 9.471025332953673,\n",
       " 'fiction': 4.9104735321302115,\n",
       " 'government': 12.08430349501021,\n",
       " 'hobbies': 8.922356393630267,\n",
       " 'humor': 7.887805248319808,\n",
       " 'learned': 11.926007043317348,\n",
       " 'lore': 10.254756197101155,\n",
       " 'mystery': 3.8335518942055167,\n",
       " 'news': 10.176684595052684,\n",
       " 'religion': 10.203109907301261,\n",
       " 'reviews': 10.769699888473433,\n",
       " 'romance': 4.34922419804213,\n",
       " 'science_fiction': 4.978058336905399}"
      ]
     },
     "execution_count": 16,
     "metadata": {},
     "output_type": "execute_result"
    }
   ],
   "source": [
    "dict"
   ]
  },
  {
   "cell_type": "code",
   "execution_count": 17,
   "metadata": {},
   "outputs": [],
   "source": [
    "dict = {cat : (4.71*(len(\"\".join(list(brown.words(categories=cat))))/len(brown.words(categories=cat))) + 0.5*(len(brown.words(categories=cat))/len(brown.sents(categories=cat))) - 21.43) for cat in brown.categories() }\n",
    "\n",
    "Uw = lambda brown,cat : len(\"\".join(list(brown.words(categories=cat))))/len(brown.words(categories=cat))\n",
    "Us = lambda brown,cat : len(brown.words(categories=cat))/len(brown.sents(categories=cat))\n",
    "\n",
    "d = {cat : (4.71*Uw(brown,cat) + 0.5*Us(brown,cat) - 21.43) for cat in brown.categories() }"
   ]
  },
  {
   "cell_type": "code",
   "execution_count": 18,
   "metadata": {},
   "outputs": [
    {
     "data": {
      "text/plain": [
       "{'adventure': 4.0841684990890705,\n",
       " 'belles_lettres': 10.987652885621749,\n",
       " 'editorial': 9.471025332953673,\n",
       " 'fiction': 4.9104735321302115,\n",
       " 'government': 12.08430349501021,\n",
       " 'hobbies': 8.922356393630267,\n",
       " 'humor': 7.887805248319808,\n",
       " 'learned': 11.926007043317348,\n",
       " 'lore': 10.254756197101155,\n",
       " 'mystery': 3.8335518942055167,\n",
       " 'news': 10.176684595052684,\n",
       " 'religion': 10.203109907301261,\n",
       " 'reviews': 10.769699888473433,\n",
       " 'romance': 4.34922419804213,\n",
       " 'science_fiction': 4.978058336905399}"
      ]
     },
     "execution_count": 18,
     "metadata": {},
     "output_type": "execute_result"
    }
   ],
   "source": []
  },
  {
   "cell_type": "code",
   "execution_count": 19,
   "metadata": {},
   "outputs": [
    {
     "data": {
      "text/plain": [
       "['aiuio', 'oauaio', 'eouio', 'euoia', 'eaiou', 'uiieioa']"
      ]
     },
     "execution_count": 19,
     "metadata": {},
     "output_type": "execute_result"
    }
   ],
   "source": [
    "[\"\".join([char for char in word if char in \"aeiou\"]) for word in words]"
   ]
  },
  {
   "cell_type": "code",
   "execution_count": null,
   "metadata": {},
   "outputs": [],
   "source": []
  }
 ],
 "metadata": {
  "kernelspec": {
   "display_name": "Python 3",
   "language": "python",
   "name": "python3"
  },
  "language_info": {
   "codemirror_mode": {
    "name": "ipython",
    "version": 3
   },
   "file_extension": ".py",
   "mimetype": "text/x-python",
   "name": "python",
   "nbconvert_exporter": "python",
   "pygments_lexer": "ipython3",
   "version": "3.6.5"
  }
 },
 "nbformat": 4,
 "nbformat_minor": 2
}
